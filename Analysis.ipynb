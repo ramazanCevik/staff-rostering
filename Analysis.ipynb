{
 "cells": [
  {
   "cell_type": "code",
   "execution_count": 10,
   "id": "b6bdde39",
   "metadata": {},
   "outputs": [],
   "source": [
    "from model import *\n",
    "import pickle\n",
    "import pandas as pd\n",
    "pd.options.display.float_format = '{:,.2f}'.format"
   ]
  },
  {
   "cell_type": "markdown",
   "id": "b46c23dc",
   "metadata": {},
   "source": [
    "Analysis for different penalty cost values"
   ]
  },
  {
   "cell_type": "code",
   "execution_count": 3,
   "id": "2314bba5",
   "metadata": {},
   "outputs": [
    {
     "name": "stdout",
     "output_type": "stream",
     "text": [
      "5 done\n",
      "10 done\n",
      "15 done\n",
      "20 done\n",
      "25 done\n",
      "30 done\n",
      "35 done\n",
      "40 done\n"
     ]
    }
   ],
   "source": [
    "\n",
    "with open(location+\"data.json\",\"br\") as f:\n",
    "    data = pickle.load(f)\n",
    "sets = data[\"sets\"]\n",
    "meta_parameters = data[\"meta_parameters\"]\n",
    "u_std = data[\"u_std\"]\n",
    "\n",
    "\n",
    "penalty_coefficient_results = {}\n",
    "for u in range(5,41,5):\n",
    "\n",
    "    for s in sets[\"S\"]:\n",
    "        u_std[s]={}\n",
    "        for t in sets[\"T\"]:\n",
    "            u_std[s][t]={}\n",
    "            for d in sets[\"D\"]:\n",
    "                u_std[s][t][d]= u\n",
    "    penalty_coefficient_results[u] = solve_rostering_problem(data)\n",
    "    print(u,\"done\")\n",
    "penalty_coefficient_results = pd.DataFrame(penalty_coefficient_results)\n",
    "penalty_coefficient_results.T"
   ]
  },
  {
   "cell_type": "markdown",
   "id": "1a263308",
   "metadata": {},
   "source": [
    "Analysis for different upper bounds.\n",
    "Penalty costs are randomly generated but same for all upper bounds."
   ]
  },
  {
   "cell_type": "code",
   "execution_count": 24,
   "id": "ca9d2299",
   "metadata": {},
   "outputs": [
    {
     "name": "stdout",
     "output_type": "stream",
     "text": [
      "20 done\n",
      "25 done\n",
      "30 done\n",
      "35 done\n",
      "40 done\n",
      "45 done\n",
      "50 done\n"
     ]
    },
    {
     "data": {
      "text/html": [
       "<div>\n",
       "<style scoped>\n",
       "    .dataframe tbody tr th:only-of-type {\n",
       "        vertical-align: middle;\n",
       "    }\n",
       "\n",
       "    .dataframe tbody tr th {\n",
       "        vertical-align: top;\n",
       "    }\n",
       "\n",
       "    .dataframe thead th {\n",
       "        text-align: right;\n",
       "    }\n",
       "</style>\n",
       "<table border=\"1\" class=\"dataframe\">\n",
       "  <thead>\n",
       "    <tr style=\"text-align: right;\">\n",
       "      <th></th>\n",
       "      <th>UV%</th>\n",
       "      <th>OS%</th>\n",
       "      <th>UR%</th>\n",
       "      <th>DL%</th>\n",
       "      <th>total cost</th>\n",
       "    </tr>\n",
       "  </thead>\n",
       "  <tbody>\n",
       "    <tr>\n",
       "      <th>20</th>\n",
       "      <td>90.18</td>\n",
       "      <td>0.00</td>\n",
       "      <td>86.83</td>\n",
       "      <td>135.00</td>\n",
       "      <td>25,030.00</td>\n",
       "    </tr>\n",
       "    <tr>\n",
       "      <th>25</th>\n",
       "      <td>90.75</td>\n",
       "      <td>0.00</td>\n",
       "      <td>86.83</td>\n",
       "      <td>129.00</td>\n",
       "      <td>25,024.00</td>\n",
       "    </tr>\n",
       "    <tr>\n",
       "      <th>30</th>\n",
       "      <td>90.75</td>\n",
       "      <td>0.00</td>\n",
       "      <td>86.83</td>\n",
       "      <td>145.00</td>\n",
       "      <td>25,015.00</td>\n",
       "    </tr>\n",
       "    <tr>\n",
       "      <th>35</th>\n",
       "      <td>90.75</td>\n",
       "      <td>0.00</td>\n",
       "      <td>86.83</td>\n",
       "      <td>140.00</td>\n",
       "      <td>25,015.00</td>\n",
       "    </tr>\n",
       "    <tr>\n",
       "      <th>40</th>\n",
       "      <td>90.75</td>\n",
       "      <td>0.00</td>\n",
       "      <td>86.83</td>\n",
       "      <td>140.00</td>\n",
       "      <td>25,015.00</td>\n",
       "    </tr>\n",
       "    <tr>\n",
       "      <th>45</th>\n",
       "      <td>90.75</td>\n",
       "      <td>0.00</td>\n",
       "      <td>86.83</td>\n",
       "      <td>140.00</td>\n",
       "      <td>25,015.00</td>\n",
       "    </tr>\n",
       "    <tr>\n",
       "      <th>50</th>\n",
       "      <td>90.75</td>\n",
       "      <td>0.00</td>\n",
       "      <td>86.83</td>\n",
       "      <td>140.00</td>\n",
       "      <td>25,015.00</td>\n",
       "    </tr>\n",
       "    <tr>\n",
       "      <th>No Bound</th>\n",
       "      <td>90.75</td>\n",
       "      <td>0.00</td>\n",
       "      <td>86.83</td>\n",
       "      <td>163.00</td>\n",
       "      <td>25,015.00</td>\n",
       "    </tr>\n",
       "  </tbody>\n",
       "</table>\n",
       "</div>"
      ],
      "text/plain": [
       "           UV%  OS%   UR%    DL%  total cost\n",
       "20       90.18 0.00 86.83 135.00   25,030.00\n",
       "25       90.75 0.00 86.83 129.00   25,024.00\n",
       "30       90.75 0.00 86.83 145.00   25,015.00\n",
       "35       90.75 0.00 86.83 140.00   25,015.00\n",
       "40       90.75 0.00 86.83 140.00   25,015.00\n",
       "45       90.75 0.00 86.83 140.00   25,015.00\n",
       "50       90.75 0.00 86.83 140.00   25,015.00\n",
       "No Bound 90.75 0.00 86.83 163.00   25,015.00"
      ]
     },
     "execution_count": 24,
     "metadata": {},
     "output_type": "execute_result"
    }
   ],
   "source": [
    "\n",
    "with open(location+\"data.json\",\"br\") as f:\n",
    "    data = pickle.load(f)\n",
    "sets = data[\"sets\"]\n",
    "meta_parameters = data[\"meta_parameters\"]\n",
    "upper_bound_results = {}\n",
    "for gamma_max in range(20,51,5):\n",
    "    meta_parameters[\"gamma_max\"] = gamma_max\n",
    "    upper_bound_results[gamma_max] = solve_rostering_problem(data)\n",
    "    print(gamma_max,\"done\")\n",
    "\n",
    "meta_parameters[\"gamma_max\"] = 1000\n",
    "upper_bound_results[\"No Bound\"] = solve_rostering_problem(data)\n",
    "\n",
    "upper_bound_results = pd.DataFrame(upper_bound_results)\n",
    "upper_bound_results.T"
   ]
  }
 ],
 "metadata": {
  "kernelspec": {
   "display_name": "Python 3 (ipykernel)",
   "language": "python",
   "name": "python3"
  },
  "language_info": {
   "codemirror_mode": {
    "name": "ipython",
    "version": 3
   },
   "file_extension": ".py",
   "mimetype": "text/x-python",
   "name": "python",
   "nbconvert_exporter": "python",
   "pygments_lexer": "ipython3",
   "version": "3.8.10"
  }
 },
 "nbformat": 4,
 "nbformat_minor": 5
}
